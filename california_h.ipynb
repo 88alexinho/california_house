{
 "cells": [
  {
   "cell_type": "code",
   "execution_count": 2,
   "id": "35d3bfa9-75eb-403a-bba2-9d208d2c2ccf",
   "metadata": {
    "tags": []
   },
   "outputs": [],
   "source": [
    "import pandas as pd\n",
    "import numpy as np\n",
    "import matplotlib.pyplot as plt\n",
    "%matplotlib inline"
   ]
  },
  {
   "cell_type": "code",
   "execution_count": null,
   "id": "6cb7cdd9-3b7e-4617-bfdc-4e1a64a8df0e",
   "metadata": {},
   "outputs": [],
   "source": [
    "path = \"\""
   ]
  }
 ],
 "metadata": {
  "kernelspec": {
   "display_name": "auto_env",
   "language": "python",
   "name": "auto_env"
  },
  "language_info": {
   "codemirror_mode": {
    "name": "ipython",
    "version": 3
   },
   "file_extension": ".py",
   "mimetype": "text/x-python",
   "name": "python",
   "nbconvert_exporter": "python",
   "pygments_lexer": "ipython3",
   "version": "3.12.0"
  }
 },
 "nbformat": 4,
 "nbformat_minor": 5
}
